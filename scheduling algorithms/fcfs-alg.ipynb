{
 "cells": [
  {
   "cell_type": "markdown",
   "id": "ca3a3e72",
   "metadata": {},
   "source": [
    "### Fcfs algorithm"
   ]
  },
  {
   "cell_type": "markdown",
   "id": "8d46e746",
   "metadata": {},
   "source": [
    "  \n",
    "    Implements the FCFS (First Come, First Served) scheduling algorithm to calculate the average response time (ATT) for each process.\n",
    "\n",
    "    Args:\n",
    "        arrival_time (list): A list of the arrival times of the processes.\n",
    "        burst_time (list): A list of the burst times of the processes.\n",
    "\n",
    "    Returns:\n",
    "        float: The average response time (ATT) for all processes.\n",
    "    "
   ]
  },
  {
   "cell_type": "code",
   "execution_count": 856,
   "id": "c1dff917",
   "metadata": {},
   "outputs": [
    {
     "name": "stdout",
     "output_type": "stream",
     "text": [
      "Average response time (ATT): 8.6\n"
     ]
    }
   ],
   "source": [
    "def fcfs_scheduling(arrival_time, burst_time):\n",
    "\n",
    "\n",
    "    n = len(arrival_time)  # Number of processes\n",
    "\n",
    "    # Sort the data by arrival time for FCFS scheduling\n",
    "    sorted_data = sorted(zip(arrival_time, burst_time))\n",
    "    arrival_time, burst_time = zip(*sorted_data)\n",
    "\n",
    "    waiting_time = [0] * n  # Initialize waiting times for each process\n",
    "    for i in range(1, n):\n",
    "        waiting_time[i] = waiting_time[i - 1] + burst_time[i - 1]  # Calculate waiting time for each process\n",
    "\n",
    "    response_time = [waiting_time[i] + burst_time[i] for i in range(n)]  # Calculate response time for each process\n",
    "\n",
    "    # Calculate the average response time (ATT)\n",
    "    average_response_time = sum(response_time) / n\n",
    "\n",
    "    return average_response_time\n",
    "\n",
    "\n",
    "# Test example\n",
    "arrival_time = [0, 1, 2, 3, 4]\n",
    "burst_time = [3, 4, 1, 2, 5]\n",
    "\n",
    "average_response_time = fcfs_scheduling(arrival_time, burst_time)\n",
    "\n",
    "print(f\"Average response time (ATT): {average_response_time}\")\n"
   ]
  }
 ],
 "metadata": {
  "kernelspec": {
   "display_name": "Python 3 (ipykernel)",
   "language": "python",
   "name": "python3"
  },
  "language_info": {
   "codemirror_mode": {
    "name": "ipython",
    "version": 3
   },
   "file_extension": ".py",
   "mimetype": "text/x-python",
   "name": "python",
   "nbconvert_exporter": "python",
   "pygments_lexer": "ipython3",
   "version": "3.8.10"
  }
 },
 "nbformat": 4,
 "nbformat_minor": 5
}
